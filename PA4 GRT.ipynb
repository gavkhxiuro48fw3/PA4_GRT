{
 "cells": [
  {
   "cell_type": "markdown",
   "id": "b40299e5",
   "metadata": {},
   "source": [
    "## Gavin Trumbull\n",
    "# assignment 5, eric matthes, 2nd edition, spring 2023\n",
    "# CS150"
   ]
  },
  {
   "cell_type": "code",
   "execution_count": 19,
   "id": "3c20194e",
   "metadata": {},
   "outputs": [
    {
     "name": "stdout",
     "output_type": "stream",
     "text": [
      "enter a word to translate from English to Korean (enter 0 to stop): one\n",
      "the Korean word for one is hana\n",
      "enter a word to translate from English to Korean (enter 0 to stop): eleven\n",
      "the Korean word for eleven is outside this dictionary\n",
      "enter a word to translate from English to Korean (enter 0 to stop): 0\n"
     ]
    }
   ],
   "source": [
    "translator={'one':'hana',\n",
    "            'two':'dhul',\n",
    "            'three':'sehtt',\n",
    "            'four':'nehtt',\n",
    "            'five':'da-seut',\n",
    "            'six':'yeo-seut',\n",
    "            'seven':'il-gop',\n",
    "            'eight':'yuh-duel',\n",
    "            'nine':'ah-hop',\n",
    "            'ten':'yeol'}\n",
    "active=True\n",
    "while active:\n",
    "    word=input('enter a word to translate from English to Korean (enter 0 to stop): ')\n",
    "    if word in translator:\n",
    "        print('the Korean word for',word, 'is', translator[word])\n",
    "    elif word=='0':\n",
    "        break\n",
    "    else:\n",
    "        print('the Korean word for',word,'is outside this dictionary')"
   ]
  },
  {
   "cell_type": "code",
   "execution_count": 18,
   "id": "0e6421c1",
   "metadata": {},
   "outputs": [
    {
     "name": "stdout",
     "output_type": "stream",
     "text": [
      "{1: 43.2, 2: 23.4, 3: 55.8, 4: 45.0, 5: 25.2, 6: 19.8, 7: 25.2, 8: 19.8, 9: 23.4, 10: 32.4, 11: 39.6, 12: 41.4, 13: 9.0, 14: 7.2, 15: 12.6, 16: 23.4, 17: 48.6, 18: 25.2, 19: 41.4, 20: 9.0, 21: 7.2, 22: 7.2, 23: 9.0, 24: 19.8, 25: 16.2, 26: 7.2, 27: 9.0, 28: 39.6, 29: 25.2, 30: 7.2, 31: -7.2}\n"
     ]
    }
   ],
   "source": [
    "Temp_dict={1:56,\n",
    "           2:45,\n",
    "           3:63,\n",
    "           4:57,\n",
    "           5:46,\n",
    "           6:43,\n",
    "           7:46,\n",
    "           8:43,\n",
    "           9:45,\n",
    "           10:50,\n",
    "           11:54,\n",
    "           12:55,\n",
    "           13:37,\n",
    "           14:36,\n",
    "           15:39,\n",
    "           16:45,\n",
    "           17:59,\n",
    "           18:46,\n",
    "           19:55,\n",
    "           20:37,\n",
    "           21:36,\n",
    "           22:36,\n",
    "           23:37,\n",
    "           24:43,\n",
    "           25:41,\n",
    "           26:36,\n",
    "           27:37,\n",
    "           28:54,\n",
    "           29:46,\n",
    "           30:36,\n",
    "           31:28}\n",
    "for i,j in Temp_dict.items():\n",
    "    Temp_dict.update({i:(j-32)*9/5})\n",
    "print(Temp_dict)"
   ]
  },
  {
   "cell_type": "code",
   "execution_count": 12,
   "id": "a65423d3",
   "metadata": {},
   "outputs": [
    {
     "name": "stdout",
     "output_type": "stream",
     "text": [
      "{1: 1, 2: 4, 3: 9, 4: 16, 5: 25, 6: 36, 7: 49, 8: 64, 9: 81, 10: 100, 11: 121, 12: 144, 13: 169, 14: 196, 15: 225}\n"
     ]
    }
   ],
   "source": [
    "Dict={}\n",
    "for i in range(1,16):\n",
    "    Dict[i]=i**2\n",
    "print(Dict)\n"
   ]
  },
  {
   "cell_type": "code",
   "execution_count": null,
   "id": "364b7e2f",
   "metadata": {},
   "outputs": [],
   "source": []
  }
 ],
 "metadata": {
  "kernelspec": {
   "display_name": "Python 3 (ipykernel)",
   "language": "python",
   "name": "python3"
  },
  "language_info": {
   "codemirror_mode": {
    "name": "ipython",
    "version": 3
   },
   "file_extension": ".py",
   "mimetype": "text/x-python",
   "name": "python",
   "nbconvert_exporter": "python",
   "pygments_lexer": "ipython3",
   "version": "3.9.13"
  }
 },
 "nbformat": 4,
 "nbformat_minor": 5
}
